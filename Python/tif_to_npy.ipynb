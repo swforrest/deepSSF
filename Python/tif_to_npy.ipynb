{
 "cells": [
  {
   "cell_type": "markdown",
   "metadata": {},
   "source": [
    "## Import packages"
   ]
  },
  {
   "cell_type": "code",
   "execution_count": 1,
   "metadata": {},
   "outputs": [],
   "source": [
    "import os\n",
    "import numpy as np\n",
    "import rasterio\n",
    "import pandas as pd"
   ]
  },
  {
   "cell_type": "code",
   "execution_count": 3,
   "metadata": {},
   "outputs": [],
   "source": [
    "def convert_tif_to_npy(tif_path):\n",
    "    # Generate the .npy filename\n",
    "    npy_path = os.path.splitext(tif_path)[0] + '.npy'\n",
    "\n",
    "    # Check if the .npy file already exists\n",
    "    if os.path.exists(npy_path):\n",
    "        print(f\"Skipping {tif_path} as {npy_path} already exists\")\n",
    "        return\n",
    "    \n",
    "    with rasterio.open(tif_path) as src:\n",
    "        img = src.read()\n",
    "        np.save(npy_path, img)\n",
    "    \n",
    "    print(f\"Converted {tif_path} to {npy_path}\")\n"
   ]
  },
  {
   "cell_type": "code",
   "execution_count": 4,
   "metadata": {},
   "outputs": [
    {
     "name": "stdout",
     "output_type": "stream",
     "text": [
      "Skipping ../data_layers_single/ndvi/ndvi_id2005_index_1_t2_2018-07-25_hr_11.tif as ../data_layers_single/ndvi/ndvi_id2005_index_1_t2_2018-07-25_hr_11.npy already exists\n"
     ]
    }
   ],
   "source": [
    "# Example usage\n",
    "convert_tif_to_npy('../data_layers_single/ndvi/ndvi_id2005_index_1_t2_2018-07-25_hr_11.tif')"
   ]
  },
  {
   "cell_type": "code",
   "execution_count": 4,
   "metadata": {},
   "outputs": [
    {
     "name": "stdout",
     "output_type": "stream",
     "text": [
      "(1, 101, 101)\n",
      "[[[0.62448275 0.6218304  0.6090012  ... 0.6281635  0.6364854  0.63820636]\n",
      "  [0.61254686 0.6158266  0.60383445 ... 0.63529193 0.6367698  0.63712084]\n",
      "  [0.60717446 0.60216236 0.5877266  ... 0.62671566 0.6257723  0.6246104 ]\n",
      "  ...\n",
      "  [0.5954609  0.58423525 0.5718299  ... 0.6301174  0.62513494 0.60891765]\n",
      "  [0.5999506  0.5778378  0.57568336 ... 0.63124436 0.63029844 0.61173224]\n",
      "  [0.6151915  0.597685   0.5949887  ... 0.6371749  0.6414175  0.6429343 ]]]\n"
     ]
    }
   ],
   "source": [
    "# read in the .npy file\n",
    "img = np.load('../data_layers_single/ndvi/ndvi_id2005_index_1_t2_2018-07-25_hr_11.npy')\n",
    "print(img.shape)\n",
    "print(img)"
   ]
  },
  {
   "cell_type": "code",
   "execution_count": 5,
   "metadata": {},
   "outputs": [],
   "source": [
    "def convert_all_tifs_in_directory(directory):\n",
    "    for filename in os.listdir(directory):\n",
    "        if filename.endswith('.tif'):\n",
    "            tif_path = os.path.join(directory, filename)\n",
    "            convert_tif_to_npy(tif_path)\n"
   ]
  },
  {
   "cell_type": "code",
   "execution_count": null,
   "metadata": {},
   "outputs": [],
   "source": [
    "# Example usage\n",
    "convert_all_tifs_in_directory('../data_layers_single/ndvi/')"
   ]
  },
  {
   "cell_type": "code",
   "execution_count": null,
   "metadata": {},
   "outputs": [],
   "source": [
    "# Example usage\n",
    "convert_all_tifs_in_directory('../data_layers_single/canopy/')"
   ]
  },
  {
   "cell_type": "code",
   "execution_count": null,
   "metadata": {},
   "outputs": [],
   "source": [
    "# Example usage\n",
    "convert_all_tifs_in_directory('../data_layers_single/herby/')"
   ]
  },
  {
   "cell_type": "code",
   "execution_count": null,
   "metadata": {},
   "outputs": [],
   "source": [
    "# Example usage\n",
    "convert_all_tifs_in_directory('../data_layers_single/slope/')"
   ]
  },
  {
   "cell_type": "code",
   "execution_count": null,
   "metadata": {},
   "outputs": [],
   "source": [
    "# Example usage\n",
    "convert_all_tifs_in_directory('../data_layers_single/pres/')"
   ]
  },
  {
   "cell_type": "markdown",
   "metadata": {},
   "source": [
    "# Update the filenames in the csv"
   ]
  },
  {
   "cell_type": "code",
   "execution_count": 9,
   "metadata": {},
   "outputs": [],
   "source": [
    "def update_filenames_in_csv(input_csv_path, output_csv_suffix='_npy'):\n",
    "    # Read the original CSV file\n",
    "    df = pd.read_csv(input_csv_path)\n",
    "    \n",
    "    # Function to replace .tif extension with .npy\n",
    "    def replace_extension(filename):\n",
    "        return os.path.splitext(filename)[0] + '.npy'\n",
    "    \n",
    "    # Assuming that the filenames are in specific columns, update those columns\n",
    "    for column in df.columns:\n",
    "        if df[column].dtype == object:  # Check if the column contains string data\n",
    "            df[column] = df[column].apply(lambda x: replace_extension(x) if x.endswith('.tif') else x)\n",
    "    \n",
    "    # Generate the output CSV filename\n",
    "    output_csv_path = os.path.splitext(input_csv_path)[0] + output_csv_suffix + '.csv'\n",
    "    \n",
    "    # Save the updated DataFrame to the new CSV file\n",
    "    df.to_csv(output_csv_path, index=False)\n",
    "    print(f\"Updated CSV saved as: {output_csv_path}\")\n"
   ]
  },
  {
   "cell_type": "code",
   "execution_count": 10,
   "metadata": {},
   "outputs": [
    {
     "name": "stdout",
     "output_type": "stream",
     "text": [
      "Updated CSV saved as: ../data_layers_single/buffalo_all_101x101_data_df_lag_1hr_n103630_npy.csv\n"
     ]
    }
   ],
   "source": [
    "# Example usage\n",
    "update_filenames_in_csv('../data_layers_single/buffalo_all_101x101_data_df_lag_1hr_n103630.csv')"
   ]
  }
 ],
 "metadata": {
  "kernelspec": {
   "display_name": "deep_ssf",
   "language": "python",
   "name": "python3"
  },
  "language_info": {
   "codemirror_mode": {
    "name": "ipython",
    "version": 3
   },
   "file_extension": ".py",
   "mimetype": "text/x-python",
   "name": "python",
   "nbconvert_exporter": "python",
   "pygments_lexer": "ipython3",
   "version": "3.11.8"
  }
 },
 "nbformat": 4,
 "nbformat_minor": 2
}
