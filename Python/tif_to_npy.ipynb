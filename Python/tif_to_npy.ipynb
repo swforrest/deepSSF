{
 "cells": [
  {
   "cell_type": "markdown",
   "metadata": {},
   "source": [
    "## Import packages"
   ]
  },
  {
   "cell_type": "code",
   "execution_count": 1,
   "metadata": {},
   "outputs": [],
   "source": [
    "import os\n",
    "import numpy as np\n",
    "import rasterio"
   ]
  },
  {
   "cell_type": "code",
   "execution_count": 3,
   "metadata": {},
   "outputs": [],
   "source": [
    "def convert_tif_to_npy(tif_path):\n",
    "    # Generate the .npy filename\n",
    "    npy_path = os.path.splitext(tif_path)[0] + '.npy'\n",
    "    \n",
    "    with rasterio.open(tif_path) as src:\n",
    "        img = src.read()\n",
    "        np.save(npy_path, img)\n",
    "    \n",
    "    print(f\"Converted {tif_path} to {npy_path}\")\n"
   ]
  },
  {
   "cell_type": "code",
   "execution_count": 5,
   "metadata": {},
   "outputs": [
    {
     "name": "stdout",
     "output_type": "stream",
     "text": [
      "Converted ../data_layers_single/ndvi/ndvi_id2005_index_1_t2_2018-07-25_hr_11.tif to ../data_layers_single/ndvi/ndvi_id2005_index_1_t2_2018-07-25_hr_11.npy\n"
     ]
    }
   ],
   "source": [
    "# Example usage\n",
    "convert_tif_to_npy('../data_layers_single/ndvi/ndvi_id2005_index_1_t2_2018-07-25_hr_11.tif')"
   ]
  },
  {
   "cell_type": "code",
   "execution_count": 6,
   "metadata": {},
   "outputs": [
    {
     "name": "stdout",
     "output_type": "stream",
     "text": [
      "(1, 101, 101)\n",
      "[[[0.62448275 0.6218304  0.6090012  ... 0.6281635  0.6364854  0.63820636]\n",
      "  [0.61254686 0.6158266  0.60383445 ... 0.63529193 0.6367698  0.63712084]\n",
      "  [0.60717446 0.60216236 0.5877266  ... 0.62671566 0.6257723  0.6246104 ]\n",
      "  ...\n",
      "  [0.5954609  0.58423525 0.5718299  ... 0.6301174  0.62513494 0.60891765]\n",
      "  [0.5999506  0.5778378  0.57568336 ... 0.63124436 0.63029844 0.61173224]\n",
      "  [0.6151915  0.597685   0.5949887  ... 0.6371749  0.6414175  0.6429343 ]]]\n"
     ]
    }
   ],
   "source": [
    "# read in the .npy file\n",
    "img = np.load('../data_layers_single/ndvi/ndvi_id2005_index_1_t2_2018-07-25_hr_11.npy')\n",
    "print(img.shape)\n",
    "print(img)"
   ]
  }
 ],
 "metadata": {
  "kernelspec": {
   "display_name": "deep_ssf",
   "language": "python",
   "name": "python3"
  },
  "language_info": {
   "codemirror_mode": {
    "name": "ipython",
    "version": 3
   },
   "file_extension": ".py",
   "mimetype": "text/x-python",
   "name": "python",
   "nbconvert_exporter": "python",
   "pygments_lexer": "ipython3",
   "version": "3.11.8"
  }
 },
 "nbformat": 4,
 "nbformat_minor": 2
}
